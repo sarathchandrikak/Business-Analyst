{
 "cells": [
  {
   "cell_type": "code",
   "execution_count": 12,
   "id": "087954ff-6ecf-4594-be57-d0eac9438e18",
   "metadata": {},
   "outputs": [],
   "source": [
    "file = open(\"dataset/conv.txt\", \"r\")"
   ]
  },
  {
   "cell_type": "code",
   "execution_count": 13,
   "id": "5f4f976d-c38c-4352-9907-5d6e6919538f",
   "metadata": {},
   "outputs": [],
   "source": [
    "data = file.read()"
   ]
  },
  {
   "cell_type": "code",
   "execution_count": 14,
   "id": "8148cc27-8e74-4f9e-aa30-9c20efff0f9a",
   "metadata": {},
   "outputs": [],
   "source": [
    "modified_data = data.replace(\"\\n\", \" \")"
   ]
  },
  {
   "cell_type": "code",
   "execution_count": 15,
   "id": "c83c91a7-7145-4545-8316-78c221aada60",
   "metadata": {},
   "outputs": [],
   "source": [
    "split_data = modified_data.split(\" \")"
   ]
  },
  {
   "cell_type": "code",
   "execution_count": 16,
   "id": "28cb4cea-9d9e-40c3-bba7-78ed594b5633",
   "metadata": {},
   "outputs": [],
   "source": [
    "data_set = set(split_data)"
   ]
  },
  {
   "cell_type": "code",
   "execution_count": 17,
   "id": "f4ad87c9-2a84-428e-a745-3e28a9c56cfa",
   "metadata": {},
   "outputs": [
    {
     "name": "stdout",
     "output_type": "stream",
     "text": [
      "503\n"
     ]
    }
   ],
   "source": [
    "print(len(data_set))"
   ]
  },
  {
   "cell_type": "markdown",
   "id": "7bf62d28-c7a0-4087-b151-44b8b839f1ed",
   "metadata": {},
   "source": [
    "503 unique words are available in the given conversation"
   ]
  },
  {
   "cell_type": "code",
   "execution_count": 18,
   "id": "775a171c-485f-4563-8f94-81012abd6aaa",
   "metadata": {},
   "outputs": [
    {
     "name": "stdout",
     "output_type": "stream",
     "text": [
      "<class 'str'>\n"
     ]
    }
   ],
   "source": [
    "print(type(modified_data))"
   ]
  },
  {
   "cell_type": "code",
   "execution_count": 19,
   "id": "7350d3c0-0fd1-4eb6-9fe1-c33c2264fa41",
   "metadata": {},
   "outputs": [],
   "source": [
    "words_list = []\n",
    "length = len(modified_data)\n",
    "copy = modified_data\n",
    "for i in range(length):\n",
    "    if i == 0:\n",
    "        index = copy.find(\":\")\n",
    "        words_list.append(copy[0:index])\n",
    "        copy = copy[index + 1:] \n",
    "    else:\n",
    "        previous_length = len(copy)\n",
    "        start_index = copy.find(\"  \")\n",
    "        end_index = copy.find(\":\")\n",
    "        words_list.append(copy[start_index+2:end_index])\n",
    "        copy = copy[end_index + 1:]\n",
    "        current_length = len(copy)\n",
    "        if (current_length == previous_length):\n",
    "            break\n",
    "if '' in words_list:\n",
    "    words_list.remove('')\n",
    "\n",
    "unique_characters = set(words_list)"
   ]
  },
  {
   "cell_type": "code",
   "execution_count": 20,
   "id": "f6c68cbe-21c6-4324-944a-2caa521661cf",
   "metadata": {},
   "outputs": [],
   "source": [
    "character_lists = {key:[] for key in unique_characters}"
   ]
  },
  {
   "cell_type": "code",
   "execution_count": 21,
   "id": "474fce7a-f959-4be6-8cc0-d86d55c1f5c0",
   "metadata": {},
   "outputs": [],
   "source": [
    "convo_data = list(data.split(\"\\n\\n\"))\n",
    "for i in convo_data:\n",
    "    for j in unique_characters:\n",
    "        if j in i:\n",
    "            if i not in character_lists[j]:\n",
    "                character_lists[j].append(i)"
   ]
  },
  {
   "cell_type": "code",
   "execution_count": 88,
   "id": "9ea1bcca-a611-4f68-901a-074149a0271c",
   "metadata": {},
   "outputs": [],
   "source": [
    "for i in character_lists.keys():\n",
    "    file = open(i +\".txt\", \"w+\")\n",
    "    string = str(character_lists[i])\n",
    "    for ch in ['[', ']', ',', '.', \"\", \"'\", \":\", i]:\n",
    "        if ch in string:\n",
    "            string = string.replace(ch, \"\")\n",
    "    string = string.replace(' ',\",\\n\")\n",
    "    string = string[1:]\n",
    "    list1 = set(string.split(','))\n",
    "    for k in list1:\n",
    "        if k not in file and k != \"\\n\":\n",
    "            file.writelines(k)"
   ]
  },
  {
   "cell_type": "code",
   "execution_count": null,
   "id": "aca312c4-fc0e-4900-bbc4-26f6390f78d0",
   "metadata": {},
   "outputs": [],
   "source": []
  }
 ],
 "metadata": {
  "kernelspec": {
   "display_name": "Python 3",
   "language": "python",
   "name": "python3"
  },
  "language_info": {
   "codemirror_mode": {
    "name": "ipython",
    "version": 3
   },
   "file_extension": ".py",
   "mimetype": "text/x-python",
   "name": "python",
   "nbconvert_exporter": "python",
   "pygments_lexer": "ipython3",
   "version": "3.9.5"
  }
 },
 "nbformat": 4,
 "nbformat_minor": 5
}
