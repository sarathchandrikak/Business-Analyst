{
 "cells": [
  {
   "cell_type": "markdown",
   "metadata": {
    "colab_type": "text",
    "id": "2ld-dfQRxw2Q"
   },
   "source": [
    "---\n",
    "---\n",
    "\n",
    "<center><h1> 📍 📍 Sorting the Data 📍 📍 </h1></center>\n",
    "\n",
    "---\n",
    "\n",
    "In this notebook, we will see how to sort the data based on a single column and on multiple columns. Also we will see how to reset index after sorting the data.\n",
    "\n",
    "---\n"
   ]
  },
  {
   "cell_type": "code",
   "execution_count": 1,
   "metadata": {
    "colab": {},
    "colab_type": "code",
    "id": "SsQF1TVZxw2U"
   },
   "outputs": [],
   "source": [
    "# import the pandas library\n",
    "import pandas as pd"
   ]
  },
  {
   "cell_type": "markdown",
   "metadata": {
    "colab_type": "text",
    "id": "fB7A9E35xw2a"
   },
   "source": [
    " ---\n",
    "\n",
    "#### `CREATE A SAMPLE DATAFRAME`\n",
    "\n",
    "\n",
    "- We will create a sample data of students that will contain `roll_no`, `name`, `grade`, `marks` and `city`. \n",
    "\n",
    "\n",
    "---"
   ]
  },
  {
   "cell_type": "code",
   "execution_count": 2,
   "metadata": {
    "colab": {},
    "colab_type": "code",
    "id": "OAP31pWIxw2c",
    "outputId": "9420cf7f-d0f1-4728-dc3c-186144c21c7b"
   },
   "outputs": [
    {
     "data": {
      "text/html": [
       "<div>\n",
       "<style scoped>\n",
       "    .dataframe tbody tr th:only-of-type {\n",
       "        vertical-align: middle;\n",
       "    }\n",
       "\n",
       "    .dataframe tbody tr th {\n",
       "        vertical-align: top;\n",
       "    }\n",
       "\n",
       "    .dataframe thead th {\n",
       "        text-align: right;\n",
       "    }\n",
       "</style>\n",
       "<table border=\"1\" class=\"dataframe\">\n",
       "  <thead>\n",
       "    <tr style=\"text-align: right;\">\n",
       "      <th></th>\n",
       "      <th>roll_no</th>\n",
       "      <th>name</th>\n",
       "      <th>grade</th>\n",
       "      <th>marks</th>\n",
       "      <th>city</th>\n",
       "    </tr>\n",
       "  </thead>\n",
       "  <tbody>\n",
       "    <tr>\n",
       "      <th>0</th>\n",
       "      <td>102</td>\n",
       "      <td>Aravind</td>\n",
       "      <td>B</td>\n",
       "      <td>15</td>\n",
       "      <td>Gurugram</td>\n",
       "    </tr>\n",
       "    <tr>\n",
       "      <th>1</th>\n",
       "      <td>101</td>\n",
       "      <td>Rahul</td>\n",
       "      <td>B</td>\n",
       "      <td>15</td>\n",
       "      <td>Delhi</td>\n",
       "    </tr>\n",
       "    <tr>\n",
       "      <th>2</th>\n",
       "      <td>104</td>\n",
       "      <td>Prateek</td>\n",
       "      <td>A</td>\n",
       "      <td>20</td>\n",
       "      <td>Delhi</td>\n",
       "    </tr>\n",
       "    <tr>\n",
       "      <th>3</th>\n",
       "      <td>103</td>\n",
       "      <td>Piyuesh</td>\n",
       "      <td>C</td>\n",
       "      <td>4</td>\n",
       "      <td>Gurugram</td>\n",
       "    </tr>\n",
       "    <tr>\n",
       "      <th>4</th>\n",
       "      <td>105</td>\n",
       "      <td>Kartik</td>\n",
       "      <td>A</td>\n",
       "      <td>22</td>\n",
       "      <td>Hyderabad</td>\n",
       "    </tr>\n",
       "  </tbody>\n",
       "</table>\n",
       "</div>"
      ],
      "text/plain": [
       "   roll_no     name grade  marks       city\n",
       "0      102  Aravind     B     15   Gurugram\n",
       "1      101    Rahul     B     15      Delhi\n",
       "2      104  Prateek     A     20      Delhi\n",
       "3      103  Piyuesh     C      4   Gurugram\n",
       "4      105   Kartik     A     22  Hyderabad"
      ]
     },
     "execution_count": 2,
     "metadata": {},
     "output_type": "execute_result"
    }
   ],
   "source": [
    "# sample dataframe\n",
    "data_frame = pd.DataFrame({\n",
    "    'roll_no': [ 102, 101, 104, 103, 105],\n",
    "    'name' : ['Aravind', 'Rahul', 'Prateek', 'Piyuesh', 'Kartik'],\n",
    "    'grade': ['B', 'B', 'A', 'C', 'A'],\n",
    "    'marks': [ 15, 15, 20, 4, 22],\n",
    "    'city' : ['Gurugram', 'Delhi', 'Delhi', 'Gurugram', 'Hyderabad']\n",
    "})\n",
    "\n",
    "data_frame"
   ]
  },
  {
   "cell_type": "markdown",
   "metadata": {
    "colab_type": "text",
    "id": "lkeZbOEcxw2k"
   },
   "source": [
    "---\n",
    "\n",
    "#### `SORT THE DATAFRAME BY THE GRADES OF THE STUDENT` \n",
    "\n",
    "\n",
    "- Now, we need to sort the students based on their grades. We will use the **`sort_values`** function and in the parameter by we will pass the column **`grade`**. \n",
    "\n",
    "---"
   ]
  },
  {
   "cell_type": "code",
   "execution_count": 5,
   "metadata": {
    "colab": {},
    "colab_type": "code",
    "id": "Da41-Nwixw2l",
    "outputId": "27f3e70b-3705-44d8-926e-2bdda2ba2e6a"
   },
   "outputs": [
    {
     "data": {
      "text/html": [
       "<div>\n",
       "<style scoped>\n",
       "    .dataframe tbody tr th:only-of-type {\n",
       "        vertical-align: middle;\n",
       "    }\n",
       "\n",
       "    .dataframe tbody tr th {\n",
       "        vertical-align: top;\n",
       "    }\n",
       "\n",
       "    .dataframe thead th {\n",
       "        text-align: right;\n",
       "    }\n",
       "</style>\n",
       "<table border=\"1\" class=\"dataframe\">\n",
       "  <thead>\n",
       "    <tr style=\"text-align: right;\">\n",
       "      <th></th>\n",
       "      <th>roll_no</th>\n",
       "      <th>name</th>\n",
       "      <th>grade</th>\n",
       "      <th>marks</th>\n",
       "      <th>city</th>\n",
       "    </tr>\n",
       "  </thead>\n",
       "  <tbody>\n",
       "    <tr>\n",
       "      <th>2</th>\n",
       "      <td>104</td>\n",
       "      <td>Prateek</td>\n",
       "      <td>A</td>\n",
       "      <td>20</td>\n",
       "      <td>Delhi</td>\n",
       "    </tr>\n",
       "    <tr>\n",
       "      <th>4</th>\n",
       "      <td>105</td>\n",
       "      <td>Kartik</td>\n",
       "      <td>A</td>\n",
       "      <td>22</td>\n",
       "      <td>Hyderabad</td>\n",
       "    </tr>\n",
       "    <tr>\n",
       "      <th>0</th>\n",
       "      <td>102</td>\n",
       "      <td>Aravind</td>\n",
       "      <td>B</td>\n",
       "      <td>15</td>\n",
       "      <td>Gurugram</td>\n",
       "    </tr>\n",
       "    <tr>\n",
       "      <th>1</th>\n",
       "      <td>101</td>\n",
       "      <td>Rahul</td>\n",
       "      <td>B</td>\n",
       "      <td>15</td>\n",
       "      <td>Delhi</td>\n",
       "    </tr>\n",
       "    <tr>\n",
       "      <th>3</th>\n",
       "      <td>103</td>\n",
       "      <td>Piyuesh</td>\n",
       "      <td>C</td>\n",
       "      <td>4</td>\n",
       "      <td>Gurugram</td>\n",
       "    </tr>\n",
       "  </tbody>\n",
       "</table>\n",
       "</div>"
      ],
      "text/plain": [
       "   roll_no     name grade  marks       city\n",
       "2      104  Prateek     A     20      Delhi\n",
       "4      105   Kartik     A     22  Hyderabad\n",
       "0      102  Aravind     B     15   Gurugram\n",
       "1      101    Rahul     B     15      Delhi\n",
       "3      103  Piyuesh     C      4   Gurugram"
      ]
     },
     "execution_count": 5,
     "metadata": {},
     "output_type": "execute_result"
    }
   ],
   "source": [
    "# sort the data\n",
    "data_frame.sort_values(by=['grade'])"
   ]
  },
  {
   "cell_type": "markdown",
   "metadata": {
    "colab_type": "text",
    "id": "nFnokyMuxw2r"
   },
   "source": [
    "---\n",
    "\n",
    "- Now, that we have sorted the data based on the grades. You can see that some of the students with higher marks are ranked lower even having the same marks. So, we want to sort the data based on both grades and marks.\n",
    "\n",
    "- Also, the grades should be in ascending order and marks should be in descending order.\n",
    "\n",
    "\n",
    "---"
   ]
  },
  {
   "cell_type": "markdown",
   "metadata": {
    "colab_type": "text",
    "id": "_z1yOxxFxw2t"
   },
   "source": [
    "---\n",
    "\n",
    "#### `SORT THE DATAFRAME BY GRADE AND MARKS OF THE STUDENTS`\n",
    "\n",
    "\n",
    "- To sort the values in the descending order, we need to set parameter `ascending = False`.\n",
    "- In the by parameter pass the list of columns on which we want to sort and for the ascending parameter pass the boolean list `True for ascending` and `False for descending`.\n",
    "\n",
    "---"
   ]
  },
  {
   "cell_type": "code",
   "execution_count": 6,
   "metadata": {
    "colab": {},
    "colab_type": "code",
    "id": "_3yhDtmSxw2v",
    "outputId": "8f9418b1-a0e3-4e18-d412-134db9aecddc"
   },
   "outputs": [
    {
     "data": {
      "text/html": [
       "<div>\n",
       "<style scoped>\n",
       "    .dataframe tbody tr th:only-of-type {\n",
       "        vertical-align: middle;\n",
       "    }\n",
       "\n",
       "    .dataframe tbody tr th {\n",
       "        vertical-align: top;\n",
       "    }\n",
       "\n",
       "    .dataframe thead th {\n",
       "        text-align: right;\n",
       "    }\n",
       "</style>\n",
       "<table border=\"1\" class=\"dataframe\">\n",
       "  <thead>\n",
       "    <tr style=\"text-align: right;\">\n",
       "      <th></th>\n",
       "      <th>roll_no</th>\n",
       "      <th>name</th>\n",
       "      <th>grade</th>\n",
       "      <th>marks</th>\n",
       "      <th>city</th>\n",
       "    </tr>\n",
       "  </thead>\n",
       "  <tbody>\n",
       "    <tr>\n",
       "      <th>4</th>\n",
       "      <td>105</td>\n",
       "      <td>Kartik</td>\n",
       "      <td>A</td>\n",
       "      <td>22</td>\n",
       "      <td>Hyderabad</td>\n",
       "    </tr>\n",
       "    <tr>\n",
       "      <th>2</th>\n",
       "      <td>104</td>\n",
       "      <td>Prateek</td>\n",
       "      <td>A</td>\n",
       "      <td>20</td>\n",
       "      <td>Delhi</td>\n",
       "    </tr>\n",
       "    <tr>\n",
       "      <th>0</th>\n",
       "      <td>102</td>\n",
       "      <td>Aravind</td>\n",
       "      <td>B</td>\n",
       "      <td>15</td>\n",
       "      <td>Gurugram</td>\n",
       "    </tr>\n",
       "    <tr>\n",
       "      <th>1</th>\n",
       "      <td>101</td>\n",
       "      <td>Rahul</td>\n",
       "      <td>B</td>\n",
       "      <td>15</td>\n",
       "      <td>Delhi</td>\n",
       "    </tr>\n",
       "    <tr>\n",
       "      <th>3</th>\n",
       "      <td>103</td>\n",
       "      <td>Piyuesh</td>\n",
       "      <td>C</td>\n",
       "      <td>4</td>\n",
       "      <td>Gurugram</td>\n",
       "    </tr>\n",
       "  </tbody>\n",
       "</table>\n",
       "</div>"
      ],
      "text/plain": [
       "   roll_no     name grade  marks       city\n",
       "4      105   Kartik     A     22  Hyderabad\n",
       "2      104  Prateek     A     20      Delhi\n",
       "0      102  Aravind     B     15   Gurugram\n",
       "1      101    Rahul     B     15      Delhi\n",
       "3      103  Piyuesh     C      4   Gurugram"
      ]
     },
     "execution_count": 6,
     "metadata": {},
     "output_type": "execute_result"
    }
   ],
   "source": [
    "# sort the dataframe\n",
    "data_frame.sort_values(by=['grade','marks'],ascending=[True,False])"
   ]
  },
  {
   "cell_type": "markdown",
   "metadata": {
    "colab_type": "text",
    "id": "TeX2X2Nzxw21"
   },
   "source": [
    "---\n",
    "\n",
    "***Now, let's see the dataframe.***"
   ]
  },
  {
   "cell_type": "code",
   "execution_count": 7,
   "metadata": {
    "colab": {},
    "colab_type": "code",
    "id": "vf_Rlpsvxw24",
    "outputId": "7cf35ce2-5513-4411-ebfb-78677b844678"
   },
   "outputs": [
    {
     "data": {
      "text/html": [
       "<div>\n",
       "<style scoped>\n",
       "    .dataframe tbody tr th:only-of-type {\n",
       "        vertical-align: middle;\n",
       "    }\n",
       "\n",
       "    .dataframe tbody tr th {\n",
       "        vertical-align: top;\n",
       "    }\n",
       "\n",
       "    .dataframe thead th {\n",
       "        text-align: right;\n",
       "    }\n",
       "</style>\n",
       "<table border=\"1\" class=\"dataframe\">\n",
       "  <thead>\n",
       "    <tr style=\"text-align: right;\">\n",
       "      <th></th>\n",
       "      <th>roll_no</th>\n",
       "      <th>name</th>\n",
       "      <th>grade</th>\n",
       "      <th>marks</th>\n",
       "      <th>city</th>\n",
       "    </tr>\n",
       "  </thead>\n",
       "  <tbody>\n",
       "    <tr>\n",
       "      <th>0</th>\n",
       "      <td>102</td>\n",
       "      <td>Aravind</td>\n",
       "      <td>B</td>\n",
       "      <td>15</td>\n",
       "      <td>Gurugram</td>\n",
       "    </tr>\n",
       "    <tr>\n",
       "      <th>1</th>\n",
       "      <td>101</td>\n",
       "      <td>Rahul</td>\n",
       "      <td>B</td>\n",
       "      <td>15</td>\n",
       "      <td>Delhi</td>\n",
       "    </tr>\n",
       "    <tr>\n",
       "      <th>2</th>\n",
       "      <td>104</td>\n",
       "      <td>Prateek</td>\n",
       "      <td>A</td>\n",
       "      <td>20</td>\n",
       "      <td>Delhi</td>\n",
       "    </tr>\n",
       "    <tr>\n",
       "      <th>3</th>\n",
       "      <td>103</td>\n",
       "      <td>Piyuesh</td>\n",
       "      <td>C</td>\n",
       "      <td>4</td>\n",
       "      <td>Gurugram</td>\n",
       "    </tr>\n",
       "    <tr>\n",
       "      <th>4</th>\n",
       "      <td>105</td>\n",
       "      <td>Kartik</td>\n",
       "      <td>A</td>\n",
       "      <td>22</td>\n",
       "      <td>Hyderabad</td>\n",
       "    </tr>\n",
       "  </tbody>\n",
       "</table>\n",
       "</div>"
      ],
      "text/plain": [
       "   roll_no     name grade  marks       city\n",
       "0      102  Aravind     B     15   Gurugram\n",
       "1      101    Rahul     B     15      Delhi\n",
       "2      104  Prateek     A     20      Delhi\n",
       "3      103  Piyuesh     C      4   Gurugram\n",
       "4      105   Kartik     A     22  Hyderabad"
      ]
     },
     "execution_count": 7,
     "metadata": {},
     "output_type": "execute_result"
    }
   ],
   "source": [
    "data_frame"
   ]
  },
  {
   "cell_type": "markdown",
   "metadata": {
    "colab_type": "text",
    "id": "y14e4hSnxw2-"
   },
   "source": [
    "***Now, you can observe that the sorted state of the dataframe is not saved. Use the parameter `inplace = True` to save the sorted state.***\n",
    "\n",
    "---"
   ]
  },
  {
   "cell_type": "code",
   "execution_count": 8,
   "metadata": {
    "colab": {},
    "colab_type": "code",
    "id": "TYCWOEYAxw3A"
   },
   "outputs": [],
   "source": [
    "# save the sorted state by using inplace =True\n",
    "data_frame.sort_values(by=['grade','marks'], ascending= [True, False], inplace=True)"
   ]
  },
  {
   "cell_type": "code",
   "execution_count": 9,
   "metadata": {
    "colab": {},
    "colab_type": "code",
    "id": "StcV_0KExw3F",
    "outputId": "784d2234-e17f-4321-81ec-c7de5903a185"
   },
   "outputs": [
    {
     "data": {
      "text/html": [
       "<div>\n",
       "<style scoped>\n",
       "    .dataframe tbody tr th:only-of-type {\n",
       "        vertical-align: middle;\n",
       "    }\n",
       "\n",
       "    .dataframe tbody tr th {\n",
       "        vertical-align: top;\n",
       "    }\n",
       "\n",
       "    .dataframe thead th {\n",
       "        text-align: right;\n",
       "    }\n",
       "</style>\n",
       "<table border=\"1\" class=\"dataframe\">\n",
       "  <thead>\n",
       "    <tr style=\"text-align: right;\">\n",
       "      <th></th>\n",
       "      <th>roll_no</th>\n",
       "      <th>name</th>\n",
       "      <th>grade</th>\n",
       "      <th>marks</th>\n",
       "      <th>city</th>\n",
       "    </tr>\n",
       "  </thead>\n",
       "  <tbody>\n",
       "    <tr>\n",
       "      <th>4</th>\n",
       "      <td>105</td>\n",
       "      <td>Kartik</td>\n",
       "      <td>A</td>\n",
       "      <td>22</td>\n",
       "      <td>Hyderabad</td>\n",
       "    </tr>\n",
       "    <tr>\n",
       "      <th>2</th>\n",
       "      <td>104</td>\n",
       "      <td>Prateek</td>\n",
       "      <td>A</td>\n",
       "      <td>20</td>\n",
       "      <td>Delhi</td>\n",
       "    </tr>\n",
       "    <tr>\n",
       "      <th>0</th>\n",
       "      <td>102</td>\n",
       "      <td>Aravind</td>\n",
       "      <td>B</td>\n",
       "      <td>15</td>\n",
       "      <td>Gurugram</td>\n",
       "    </tr>\n",
       "    <tr>\n",
       "      <th>1</th>\n",
       "      <td>101</td>\n",
       "      <td>Rahul</td>\n",
       "      <td>B</td>\n",
       "      <td>15</td>\n",
       "      <td>Delhi</td>\n",
       "    </tr>\n",
       "    <tr>\n",
       "      <th>3</th>\n",
       "      <td>103</td>\n",
       "      <td>Piyuesh</td>\n",
       "      <td>C</td>\n",
       "      <td>4</td>\n",
       "      <td>Gurugram</td>\n",
       "    </tr>\n",
       "  </tbody>\n",
       "</table>\n",
       "</div>"
      ],
      "text/plain": [
       "   roll_no     name grade  marks       city\n",
       "4      105   Kartik     A     22  Hyderabad\n",
       "2      104  Prateek     A     20      Delhi\n",
       "0      102  Aravind     B     15   Gurugram\n",
       "1      101    Rahul     B     15      Delhi\n",
       "3      103  Piyuesh     C      4   Gurugram"
      ]
     },
     "execution_count": 9,
     "metadata": {},
     "output_type": "execute_result"
    }
   ],
   "source": [
    "data_frame"
   ]
  },
  {
   "cell_type": "markdown",
   "metadata": {
    "colab_type": "text",
    "id": "K-z7XKMYxw3K"
   },
   "source": [
    "---\n",
    "\n",
    "***Now, we can see that the index is also shuffled according to the sorting. If we want to reset the index we use `reset_index` function.***\n",
    "\n",
    "\n",
    "---"
   ]
  },
  {
   "cell_type": "code",
   "execution_count": 10,
   "metadata": {
    "colab": {},
    "colab_type": "code",
    "id": "-eMu1_xjxw3M",
    "outputId": "7952c4f7-926a-49b4-d559-caa7fd40126f"
   },
   "outputs": [
    {
     "data": {
      "text/html": [
       "<div>\n",
       "<style scoped>\n",
       "    .dataframe tbody tr th:only-of-type {\n",
       "        vertical-align: middle;\n",
       "    }\n",
       "\n",
       "    .dataframe tbody tr th {\n",
       "        vertical-align: top;\n",
       "    }\n",
       "\n",
       "    .dataframe thead th {\n",
       "        text-align: right;\n",
       "    }\n",
       "</style>\n",
       "<table border=\"1\" class=\"dataframe\">\n",
       "  <thead>\n",
       "    <tr style=\"text-align: right;\">\n",
       "      <th></th>\n",
       "      <th>index</th>\n",
       "      <th>roll_no</th>\n",
       "      <th>name</th>\n",
       "      <th>grade</th>\n",
       "      <th>marks</th>\n",
       "      <th>city</th>\n",
       "    </tr>\n",
       "  </thead>\n",
       "  <tbody>\n",
       "    <tr>\n",
       "      <th>0</th>\n",
       "      <td>4</td>\n",
       "      <td>105</td>\n",
       "      <td>Kartik</td>\n",
       "      <td>A</td>\n",
       "      <td>22</td>\n",
       "      <td>Hyderabad</td>\n",
       "    </tr>\n",
       "    <tr>\n",
       "      <th>1</th>\n",
       "      <td>2</td>\n",
       "      <td>104</td>\n",
       "      <td>Prateek</td>\n",
       "      <td>A</td>\n",
       "      <td>20</td>\n",
       "      <td>Delhi</td>\n",
       "    </tr>\n",
       "    <tr>\n",
       "      <th>2</th>\n",
       "      <td>0</td>\n",
       "      <td>102</td>\n",
       "      <td>Aravind</td>\n",
       "      <td>B</td>\n",
       "      <td>15</td>\n",
       "      <td>Gurugram</td>\n",
       "    </tr>\n",
       "    <tr>\n",
       "      <th>3</th>\n",
       "      <td>1</td>\n",
       "      <td>101</td>\n",
       "      <td>Rahul</td>\n",
       "      <td>B</td>\n",
       "      <td>15</td>\n",
       "      <td>Delhi</td>\n",
       "    </tr>\n",
       "    <tr>\n",
       "      <th>4</th>\n",
       "      <td>3</td>\n",
       "      <td>103</td>\n",
       "      <td>Piyuesh</td>\n",
       "      <td>C</td>\n",
       "      <td>4</td>\n",
       "      <td>Gurugram</td>\n",
       "    </tr>\n",
       "  </tbody>\n",
       "</table>\n",
       "</div>"
      ],
      "text/plain": [
       "   index  roll_no     name grade  marks       city\n",
       "0      4      105   Kartik     A     22  Hyderabad\n",
       "1      2      104  Prateek     A     20      Delhi\n",
       "2      0      102  Aravind     B     15   Gurugram\n",
       "3      1      101    Rahul     B     15      Delhi\n",
       "4      3      103  Piyuesh     C      4   Gurugram"
      ]
     },
     "execution_count": 10,
     "metadata": {},
     "output_type": "execute_result"
    }
   ],
   "source": [
    "data_frame.reset_index()"
   ]
  },
  {
   "cell_type": "markdown",
   "metadata": {
    "colab_type": "text",
    "id": "7yvoO4UZxw3S"
   },
   "source": [
    "---\n",
    "\n",
    "***Now, it has created another column `index` which is the previous index. If you want to remove this just pass the parameter `drop = True` and also `inplace = True` to save the state.***\n",
    "\n",
    "---"
   ]
  },
  {
   "cell_type": "code",
   "execution_count": 11,
   "metadata": {
    "colab": {},
    "colab_type": "code",
    "id": "deS_803exw3T",
    "outputId": "3fa5a8c4-6f9c-43f1-c619-dd7b0f797cff"
   },
   "outputs": [
    {
     "data": {
      "text/html": [
       "<div>\n",
       "<style scoped>\n",
       "    .dataframe tbody tr th:only-of-type {\n",
       "        vertical-align: middle;\n",
       "    }\n",
       "\n",
       "    .dataframe tbody tr th {\n",
       "        vertical-align: top;\n",
       "    }\n",
       "\n",
       "    .dataframe thead th {\n",
       "        text-align: right;\n",
       "    }\n",
       "</style>\n",
       "<table border=\"1\" class=\"dataframe\">\n",
       "  <thead>\n",
       "    <tr style=\"text-align: right;\">\n",
       "      <th></th>\n",
       "      <th>roll_no</th>\n",
       "      <th>name</th>\n",
       "      <th>grade</th>\n",
       "      <th>marks</th>\n",
       "      <th>city</th>\n",
       "    </tr>\n",
       "  </thead>\n",
       "  <tbody>\n",
       "    <tr>\n",
       "      <th>0</th>\n",
       "      <td>105</td>\n",
       "      <td>Kartik</td>\n",
       "      <td>A</td>\n",
       "      <td>22</td>\n",
       "      <td>Hyderabad</td>\n",
       "    </tr>\n",
       "    <tr>\n",
       "      <th>1</th>\n",
       "      <td>104</td>\n",
       "      <td>Prateek</td>\n",
       "      <td>A</td>\n",
       "      <td>20</td>\n",
       "      <td>Delhi</td>\n",
       "    </tr>\n",
       "    <tr>\n",
       "      <th>2</th>\n",
       "      <td>102</td>\n",
       "      <td>Aravind</td>\n",
       "      <td>B</td>\n",
       "      <td>15</td>\n",
       "      <td>Gurugram</td>\n",
       "    </tr>\n",
       "    <tr>\n",
       "      <th>3</th>\n",
       "      <td>101</td>\n",
       "      <td>Rahul</td>\n",
       "      <td>B</td>\n",
       "      <td>15</td>\n",
       "      <td>Delhi</td>\n",
       "    </tr>\n",
       "    <tr>\n",
       "      <th>4</th>\n",
       "      <td>103</td>\n",
       "      <td>Piyuesh</td>\n",
       "      <td>C</td>\n",
       "      <td>4</td>\n",
       "      <td>Gurugram</td>\n",
       "    </tr>\n",
       "  </tbody>\n",
       "</table>\n",
       "</div>"
      ],
      "text/plain": [
       "   roll_no     name grade  marks       city\n",
       "0      105   Kartik     A     22  Hyderabad\n",
       "1      104  Prateek     A     20      Delhi\n",
       "2      102  Aravind     B     15   Gurugram\n",
       "3      101    Rahul     B     15      Delhi\n",
       "4      103  Piyuesh     C      4   Gurugram"
      ]
     },
     "execution_count": 11,
     "metadata": {},
     "output_type": "execute_result"
    }
   ],
   "source": [
    "data_frame.reset_index(inplace=True, drop=True)\n",
    "data_frame"
   ]
  },
  {
   "cell_type": "code",
   "execution_count": null,
   "metadata": {
    "colab": {},
    "colab_type": "code",
    "id": "fmsiCzj-xw3a"
   },
   "outputs": [],
   "source": []
  }
 ],
 "metadata": {
  "colab": {
   "name": "1. Sorting the DataFrame.ipynb",
   "provenance": []
  },
  "kernelspec": {
   "display_name": "Python 3",
   "language": "python",
   "name": "python3"
  },
  "language_info": {
   "codemirror_mode": {
    "name": "ipython",
    "version": 3
   },
   "file_extension": ".py",
   "mimetype": "text/x-python",
   "name": "python",
   "nbconvert_exporter": "python",
   "pygments_lexer": "ipython3",
   "version": "3.9.5"
  }
 },
 "nbformat": 4,
 "nbformat_minor": 4
}
