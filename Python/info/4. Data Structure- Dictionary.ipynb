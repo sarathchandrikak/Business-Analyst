{
 "cells": [
  {
   "cell_type": "markdown",
   "metadata": {
    "colab_type": "text",
    "id": "7_NI9RMovAra"
   },
   "source": [
    "---\n",
    "---\n",
    "## Data Structure: Dictionary🖊🖊\n",
    "\n",
    "* Dictionary is also a mutable collection. But as you have seen in the list the indexes of the list are integer numbers. Here, indexes for dictionaries can use many different data types, not just integers.\n",
    "* Indexes for dictionaries are called keys, and a key with its associated value is called a key-value pair.\n",
    "* Items in the dictionaries are unordered. You can find out the first item in a list simply like my_list[0]. But there is no ✖️ “first” item in a dictionary. \n",
    "*  ☑️ Note: Dictionaries in Python 3.7 and later will remember the insertion order of their key-value pairs if you create a sequence value from them. But these are still unordered, as you can’t access items in them using integer indexes.\n",
    "* When we check whether the 2 lists are same or not the order of values in the list matters. It does not matter in what order the key-value pairs are typed in a dictionary.\n",
    "\n",
    "📍📍\n",
    "---"
   ]
  },
  {
   "cell_type": "markdown",
   "metadata": {
    "colab_type": "text",
    "id": "0P4UDWq6vArk"
   },
   "source": [
    "📍📍 ***Defining a dictionary in Python*** 📍📍"
   ]
  },
  {
   "cell_type": "code",
   "execution_count": 1,
   "metadata": {
    "colab": {},
    "colab_type": "code",
    "id": "-RT617E3vArt"
   },
   "outputs": [],
   "source": [
    "# define a dictionary\n",
    "'''\n",
    "{\n",
    "    'key_1' : 'value_1',\n",
    "    'key_2' : 'value_2',\n",
    "    .\n",
    "    .\n",
    "    .\n",
    "    .\n",
    "    'key_n' : 'value_n'\n",
    "}\n",
    "'''\n",
    "# define the key value pairs\n",
    "my_dictionary = {\n",
    "    'name'       : 'abc',\n",
    "    'age'        :  21,\n",
    "    'roll_no'    : 'CSE100',\n",
    "    'percentage' :  85,\n",
    "    'attendance' :  74,\n",
    "    'city'       : 'gurugram',\n",
    "    'country'    : 'india'\n",
    "}"
   ]
  },
  {
   "cell_type": "code",
   "execution_count": 2,
   "metadata": {
    "colab": {},
    "colab_type": "code",
    "id": "zB5mBRj7vAsE",
    "outputId": "6f0d305e-a07f-4864-c1da-15256daec353"
   },
   "outputs": [
    {
     "name": "stdout",
     "output_type": "stream",
     "text": [
      "Name is :  abc\n"
     ]
    }
   ],
   "source": [
    "# access key of the dictionary\n",
    "print('Name is : ',my_dictionary['name'])\n"
   ]
  },
  {
   "cell_type": "code",
   "execution_count": 3,
   "metadata": {
    "colab": {},
    "colab_type": "code",
    "id": "bMIC0cGSvAsW",
    "outputId": "38dfbc38-1b94-44cf-cfc7-bbaa3b05a5ac"
   },
   "outputs": [
    {
     "name": "stdout",
     "output_type": "stream",
     "text": [
      "Age before updation is :  21\n",
      "Age after updation is :  25\n"
     ]
    }
   ],
   "source": [
    "print('Age before updation is : ',my_dictionary['age'])\n",
    "\n",
    "# update value of the key\n",
    "my_dictionary['age'] = 25\n",
    "\n",
    "print('Age after updation is : ',my_dictionary['age'])"
   ]
  },
  {
   "cell_type": "code",
   "execution_count": 4,
   "metadata": {
    "colab": {},
    "colab_type": "code",
    "id": "l1cT5UFzvAsm",
    "outputId": "b270bbd2-ebef-40d9-b64d-2f0cf31e71f2"
   },
   "outputs": [
    {
     "data": {
      "text/plain": [
       "dict_keys(['name', 'age', 'roll_no', 'percentage', 'attendance', 'city', 'country'])"
      ]
     },
     "execution_count": 4,
     "metadata": {},
     "output_type": "execute_result"
    }
   ],
   "source": [
    "# get the keys of the dictionary\n",
    "\n",
    "my_dictionary.keys()"
   ]
  },
  {
   "cell_type": "code",
   "execution_count": 5,
   "metadata": {
    "colab": {},
    "colab_type": "code",
    "id": "ePbHokccvAs2",
    "outputId": "7664cd99-92a7-4d50-cb7e-ebe847b5dc83"
   },
   "outputs": [
    {
     "data": {
      "text/plain": [
       "dict_values(['abc', 25, 'CSE100', 85, 74, 'gurugram', 'india'])"
      ]
     },
     "execution_count": 5,
     "metadata": {},
     "output_type": "execute_result"
    }
   ],
   "source": [
    "# get the values of the dictionary\n",
    "\n",
    "my_dictionary.values()"
   ]
  },
  {
   "cell_type": "code",
   "execution_count": 6,
   "metadata": {
    "colab": {},
    "colab_type": "code",
    "id": "gmDuMaPcvAtE"
   },
   "outputs": [],
   "source": [
    "# update dictionary with a dictionary\n",
    "\n",
    "my_dictionary.update({ 'pincode' : 122015, 'last_name' : 'xyz'})"
   ]
  },
  {
   "cell_type": "code",
   "execution_count": 7,
   "metadata": {
    "colab": {},
    "colab_type": "code",
    "id": "vgQrYzA6vAtQ",
    "outputId": "d38a150b-2b2c-420a-9502-f407d81ef855"
   },
   "outputs": [
    {
     "data": {
      "text/plain": [
       "{'name': 'abc',\n",
       " 'age': 25,\n",
       " 'roll_no': 'CSE100',\n",
       " 'percentage': 85,\n",
       " 'attendance': 74,\n",
       " 'city': 'gurugram',\n",
       " 'country': 'india',\n",
       " 'pincode': 122015,\n",
       " 'last_name': 'xyz'}"
      ]
     },
     "execution_count": 7,
     "metadata": {},
     "output_type": "execute_result"
    }
   ],
   "source": [
    "my_dictionary"
   ]
  },
  {
   "cell_type": "markdown",
   "metadata": {
    "colab_type": "text",
    "id": "_EQ7rb8XvAte"
   },
   "source": [
    "---\n",
    "\n",
    "📍📍 ***Add new key to the dictionary*** 📍📍\n",
    "\n",
    "---"
   ]
  },
  {
   "cell_type": "code",
   "execution_count": 8,
   "metadata": {
    "colab": {},
    "colab_type": "code",
    "id": "hm9aXTj4vAtk",
    "outputId": "ea5fab5d-a985-48c4-f694-c12e926bd545"
   },
   "outputs": [
    {
     "name": "stdout",
     "output_type": "stream",
     "text": [
      "{'name': 'abc', 'age': 25, 'roll_no': 'CSE100', 'percentage': 85, 'attendance': 74, 'city': 'gurugram', 'country': 'india', 'pincode': 122015, 'last_name': 'xyz', 'new_key': 'new_value'}\n"
     ]
    }
   ],
   "source": [
    "# add new key to the dictionary:\n",
    "my_dictionary['new_key'] = 'new_value'\n",
    "\n",
    "print(my_dictionary)"
   ]
  },
  {
   "cell_type": "markdown",
   "metadata": {
    "colab_type": "text",
    "id": "bajZA3xIvAtx"
   },
   "source": [
    "---\n",
    "\n",
    "***📍📍 Dictionary Keys 📍📍***\n",
    "\n",
    "---"
   ]
  },
  {
   "cell_type": "markdown",
   "metadata": {
    "colab_type": "text",
    "id": "R9peqob_vAt0"
   },
   "source": [
    "---\n",
    "\n",
    "***Most of the data types can be used as keys in Dictionaries***\n",
    "\n",
    "---"
   ]
  },
  {
   "cell_type": "code",
   "execution_count": 9,
   "metadata": {
    "colab": {},
    "colab_type": "code",
    "id": "cbtTDemmvAt3"
   },
   "outputs": [],
   "source": [
    "sample = {\n",
    "    'string' : 'string',\n",
    "    10       : 'integer',\n",
    "    1.5      : 'float',\n",
    "    False    : 'boolean'\n",
    "}"
   ]
  },
  {
   "cell_type": "markdown",
   "metadata": {
    "colab_type": "text",
    "id": "MDpJJaGHvAuE"
   },
   "source": [
    "---\n",
    "\n",
    "***📍📍 `Duplicate keys` 📍📍***\n",
    "\n",
    "---"
   ]
  },
  {
   "cell_type": "code",
   "execution_count": 10,
   "metadata": {
    "colab": {},
    "colab_type": "code",
    "id": "0GpZWEjhvAuH"
   },
   "outputs": [],
   "source": [
    "sample = {\n",
    "    'A' : 1,\n",
    "    'B' : 2,\n",
    "    'C' : 3\n",
    "}"
   ]
  },
  {
   "cell_type": "code",
   "execution_count": 11,
   "metadata": {
    "colab": {},
    "colab_type": "code",
    "id": "9j-AlRwwvAuS",
    "outputId": "93f812b3-5d17-4f3a-c2cf-cfe25f008782"
   },
   "outputs": [
    {
     "data": {
      "text/plain": [
       "1"
      ]
     },
     "execution_count": 11,
     "metadata": {},
     "output_type": "execute_result"
    }
   ],
   "source": [
    "sample['A']"
   ]
  },
  {
   "cell_type": "code",
   "execution_count": 12,
   "metadata": {
    "colab": {},
    "colab_type": "code",
    "id": "diV97Y4IvAud"
   },
   "outputs": [],
   "source": [
    "sample = {\n",
    "    'A' : 1,\n",
    "    'B' : 2,\n",
    "    'C' : 3,\n",
    "    'A' : 100\n",
    "}"
   ]
  },
  {
   "cell_type": "code",
   "execution_count": 13,
   "metadata": {
    "colab": {},
    "colab_type": "code",
    "id": "ZJhdKtYavAun",
    "outputId": "b67e7392-2228-4850-d6e3-251d7eb09079"
   },
   "outputs": [
    {
     "data": {
      "text/plain": [
       "100"
      ]
     },
     "execution_count": 13,
     "metadata": {},
     "output_type": "execute_result"
    }
   ],
   "source": [
    "sample['A']"
   ]
  },
  {
   "cell_type": "markdown",
   "metadata": {
    "colab_type": "text",
    "id": "uBHqsEh6vAux"
   },
   "source": [
    "***If we add duplicate keys, it will not throw an error instead it will overwrite the value which is added in the last.***\n",
    "\n",
    "---"
   ]
  },
  {
   "cell_type": "markdown",
   "metadata": {
    "colab_type": "text",
    "id": "WTC30Y2XvAuz"
   },
   "source": [
    "---\n",
    "\n",
    "***📍📍 A dictionary key must be of a type that is immutable. 📍 📍***\n",
    "\n",
    "---"
   ]
  },
  {
   "cell_type": "code",
   "execution_count": 15,
   "metadata": {
    "colab": {},
    "colab_type": "code",
    "id": "6CsJViwavAu4",
    "outputId": "2020ab54-6c2b-45ca-bad3-0a586d7cdb96"
   },
   "outputs": [
    {
     "ename": "TypeError",
     "evalue": "unhashable type: 'list'",
     "output_type": "error",
     "traceback": [
      "\u001b[0;31m---------------------------------------------------------------------------\u001b[0m",
      "\u001b[0;31mTypeError\u001b[0m                                 Traceback (most recent call last)",
      "\u001b[0;32m<ipython-input-15-2550f827adde>\u001b[0m in \u001b[0;36m<module>\u001b[0;34m\u001b[0m\n\u001b[1;32m      1\u001b[0m \u001b[0;31m# list is mutable, hence not allowed\u001b[0m\u001b[0;34m\u001b[0m\u001b[0;34m\u001b[0m\u001b[0;34m\u001b[0m\u001b[0m\n\u001b[0;32m----> 2\u001b[0;31m sample = {\n\u001b[0m\u001b[1;32m      3\u001b[0m     \u001b[0;36m1\u001b[0m \u001b[0;34m:\u001b[0m \u001b[0;34m'integer'\u001b[0m\u001b[0;34m,\u001b[0m\u001b[0;34m\u001b[0m\u001b[0;34m\u001b[0m\u001b[0m\n\u001b[1;32m      4\u001b[0m     \u001b[0;34m[\u001b[0m\u001b[0;36m1\u001b[0m\u001b[0;34m,\u001b[0m \u001b[0;36m2\u001b[0m\u001b[0;34m]\u001b[0m \u001b[0;34m:\u001b[0m \u001b[0;34m'list'\u001b[0m\u001b[0;34m\u001b[0m\u001b[0;34m\u001b[0m\u001b[0m\n\u001b[1;32m      5\u001b[0m }\n",
      "\u001b[0;31mTypeError\u001b[0m: unhashable type: 'list'"
     ]
    }
   ],
   "source": [
    "# list is mutable, hence not allowed\n",
    "sample = {\n",
    "    1 : 'integer',\n",
    "    [1, 2] : 'list'\n",
    "}"
   ]
  },
  {
   "cell_type": "code",
   "execution_count": 16,
   "metadata": {
    "colab": {},
    "colab_type": "code",
    "id": "PaV-M8D0vAvA",
    "outputId": "82e1621b-d4de-4d6a-eba9-49d109814338"
   },
   "outputs": [
    {
     "ename": "TypeError",
     "evalue": "unhashable type: 'set'",
     "output_type": "error",
     "traceback": [
      "\u001b[0;31m---------------------------------------------------------------------------\u001b[0m",
      "\u001b[0;31mTypeError\u001b[0m                                 Traceback (most recent call last)",
      "\u001b[0;32m<ipython-input-16-4bdabe9ea12a>\u001b[0m in \u001b[0;36m<module>\u001b[0;34m\u001b[0m\n\u001b[1;32m      1\u001b[0m \u001b[0;31m# set is mutable, hence not allowed\u001b[0m\u001b[0;34m\u001b[0m\u001b[0;34m\u001b[0m\u001b[0;34m\u001b[0m\u001b[0m\n\u001b[1;32m      2\u001b[0m \u001b[0;34m\u001b[0m\u001b[0m\n\u001b[0;32m----> 3\u001b[0;31m sample = {\n\u001b[0m\u001b[1;32m      4\u001b[0m     \u001b[0;36m1\u001b[0m \u001b[0;34m:\u001b[0m \u001b[0;34m'integer'\u001b[0m\u001b[0;34m,\u001b[0m\u001b[0;34m\u001b[0m\u001b[0;34m\u001b[0m\u001b[0m\n\u001b[1;32m      5\u001b[0m     \u001b[0;34m{\u001b[0m \u001b[0;36m1\u001b[0m\u001b[0;34m,\u001b[0m \u001b[0;36m2\u001b[0m \u001b[0;34m}\u001b[0m \u001b[0;34m:\u001b[0m \u001b[0;34m'set'\u001b[0m\u001b[0;34m\u001b[0m\u001b[0;34m\u001b[0m\u001b[0m\n",
      "\u001b[0;31mTypeError\u001b[0m: unhashable type: 'set'"
     ]
    }
   ],
   "source": [
    "# set is mutable, hence not allowed\n",
    "\n",
    "sample = {\n",
    "    1 : 'integer',\n",
    "    { 1, 2 } : 'set'\n",
    "    \n",
    "}"
   ]
  },
  {
   "cell_type": "code",
   "execution_count": 17,
   "metadata": {
    "colab": {},
    "colab_type": "code",
    "id": "n7IgkmNbvAvJ"
   },
   "outputs": [],
   "source": [
    "# tuple is immutable, hence it is allowed\n",
    "sample = {\n",
    "    1 : 'integer',\n",
    "    (1, 2) : 'tuple'\n",
    "}"
   ]
  },
  {
   "cell_type": "markdown",
   "metadata": {
    "colab_type": "text",
    "id": "lH5AQ91IvAvR"
   },
   "source": [
    "---\n",
    "\n",
    "📍📍 ***Compare 2 dictionaries by changing their order.*** 📍📍\n",
    "\n",
    "---"
   ]
  },
  {
   "cell_type": "code",
   "execution_count": 18,
   "metadata": {
    "colab": {},
    "colab_type": "code",
    "id": "oy9erg2pvAvV",
    "outputId": "cc893801-6baa-45b7-9e3e-b49ba3001f8d"
   },
   "outputs": [
    {
     "data": {
      "text/plain": [
       "True"
      ]
     },
     "execution_count": 18,
     "metadata": {},
     "output_type": "execute_result"
    }
   ],
   "source": [
    "my_dict_1 = {\n",
    "    'key_1' : 'value_1',\n",
    "    'key_2' : 'value_2',\n",
    "    'key_3' : 3\n",
    "}\n",
    "\n",
    "my_dict_2 = {\n",
    "    'key_3' : 3,\n",
    "    'key_1' : 'value_1',\n",
    "    'key_2' : 'value_2'\n",
    "}\n",
    "\n",
    "(my_dict_1 == my_dict_2)"
   ]
  },
  {
   "cell_type": "markdown",
   "metadata": {
    "colab_type": "text",
    "id": "xXzvml05vAvd"
   },
   "source": [
    "---\n",
    "\n",
    "📍📍 ***Iterate through key-value pairs of the dictionary*** 📍📍\n",
    "\n",
    "---"
   ]
  },
  {
   "cell_type": "code",
   "execution_count": 19,
   "metadata": {
    "colab": {},
    "colab_type": "code",
    "id": "uWA_t-PNvAvg",
    "outputId": "d2300046-a8a7-49c0-a94d-69307966c346"
   },
   "outputs": [
    {
     "name": "stdout",
     "output_type": "stream",
     "text": [
      "name abc\n",
      "age 25\n",
      "roll_no CSE100\n",
      "percentage 85\n",
      "attendance 74\n",
      "city gurugram\n",
      "country india\n",
      "pincode 122015\n",
      "last_name xyz\n",
      "new_key new_value\n"
     ]
    }
   ],
   "source": [
    "# Iterate through key-value pairs of the dictionary\n",
    "\n",
    "for key,value in my_dictionary.items() :\n",
    "    print(key,value)"
   ]
  },
  {
   "cell_type": "markdown",
   "metadata": {
    "colab_type": "text",
    "id": "VkaQG1S_vAvq"
   },
   "source": [
    "---\n",
    "\n",
    "📍📍 ***Sort the dictionary by key*** 📍📍\n",
    "\n",
    "---"
   ]
  },
  {
   "cell_type": "code",
   "execution_count": 20,
   "metadata": {
    "colab": {},
    "colab_type": "code",
    "id": "2Xi7ci9VvAvs"
   },
   "outputs": [],
   "source": [
    "m_dict = {\n",
    "    'KL Rahul' : 45,\n",
    "    'Rohit'    : 22,\n",
    "    'Virat'    : 31,\n",
    "    'Dhawan'   : 17,\n",
    "    'Rishabh'  : 10 \n",
    "}"
   ]
  },
  {
   "cell_type": "code",
   "execution_count": 21,
   "metadata": {
    "colab": {},
    "colab_type": "code",
    "id": "AZy8b3cVvAvz",
    "outputId": "c3c8d9e1-9e17-43f7-f013-9c1e41d76a7d"
   },
   "outputs": [
    {
     "data": {
      "text/plain": [
       "[('Dhawan', 17),\n",
       " ('KL Rahul', 45),\n",
       " ('Rishabh', 10),\n",
       " ('Rohit', 22),\n",
       " ('Virat', 31)]"
      ]
     },
     "execution_count": 21,
     "metadata": {},
     "output_type": "execute_result"
    }
   ],
   "source": [
    "sorted(m_dict.items())"
   ]
  },
  {
   "cell_type": "markdown",
   "metadata": {
    "colab_type": "text",
    "id": "hMZ5-_2bvAv8"
   },
   "source": [
    "---\n",
    "\n",
    "📍📍 ***Sort the dictionary by values*** 📍📍\n",
    "\n",
    "    * We will see this when we will study lambda expressions.\n",
    "\n",
    "---"
   ]
  },
  {
   "cell_type": "code",
   "execution_count": 28,
   "metadata": {},
   "outputs": [
    {
     "ename": "SyntaxError",
     "evalue": "invalid syntax (<ipython-input-28-4887a1f2f834>, line 1)",
     "output_type": "error",
     "traceback": [
      "\u001b[0;36m  File \u001b[0;32m\"<ipython-input-28-4887a1f2f834>\"\u001b[0;36m, line \u001b[0;32m1\u001b[0m\n\u001b[0;31m    mydict = dict{}\u001b[0m\n\u001b[0m                 ^\u001b[0m\n\u001b[0;31mSyntaxError\u001b[0m\u001b[0;31m:\u001b[0m invalid syntax\n"
     ]
    }
   ],
   "source": [
    "mydict = dict{}"
   ]
  },
  {
   "cell_type": "code",
   "execution_count": 27,
   "metadata": {},
   "outputs": [
    {
     "data": {
      "text/plain": [
       "dict"
      ]
     },
     "execution_count": 27,
     "metadata": {},
     "output_type": "execute_result"
    }
   ],
   "source": [
    "type(mydict)"
   ]
  },
  {
   "cell_type": "code",
   "execution_count": null,
   "metadata": {},
   "outputs": [],
   "source": []
  },
  {
   "cell_type": "code",
   "execution_count": null,
   "metadata": {},
   "outputs": [],
   "source": []
  }
 ],
 "metadata": {
  "colab": {
   "collapsed_sections": [],
   "name": "Data Structure- Dictionary.ipynb",
   "provenance": []
  },
  "kernelspec": {
   "display_name": "Python 3",
   "language": "python",
   "name": "python3"
  },
  "language_info": {
   "codemirror_mode": {
    "name": "ipython",
    "version": 3
   },
   "file_extension": ".py",
   "mimetype": "text/x-python",
   "name": "python",
   "nbconvert_exporter": "python",
   "pygments_lexer": "ipython3",
   "version": "3.9.5"
  }
 },
 "nbformat": 4,
 "nbformat_minor": 4
}
