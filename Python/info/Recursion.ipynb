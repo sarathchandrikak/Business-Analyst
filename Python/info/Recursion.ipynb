{
 "cells": [
  {
   "cell_type": "markdown",
   "metadata": {},
   "source": [
    "---\n",
    "---\n",
    "\n",
    "<h1><center> 📍📍RECURSION 📍📍 </h1></center>\n",
    "\n",
    "---"
   ]
  },
  {
   "cell_type": "markdown",
   "metadata": {},
   "source": [
    "***We will solve the problem of counting handshakes here.***\n",
    "\n",
    "- First we, will code the iterative approach then, we will code the recursive approach.\n",
    "\n",
    "---\n",
    "\n",
    "#### `ITERATIVE APPROCH`\n",
    "\n",
    "---"
   ]
  },
  {
   "cell_type": "code",
   "execution_count": 1,
   "metadata": {},
   "outputs": [],
   "source": [
    "def count_hand_shakes_iterative(total_persons_in_room):\n",
    "    count = 0\n",
    "    \n",
    "    for i in range(1, total_persons_in_room):\n",
    "        \n",
    "        for j in range(i+1, total_persons_in_room+1):\n",
    "            print('Hand Shake of ', i, 'and',j)\n",
    "            count = count+1\n",
    "    \n",
    "    # total handshakes\n",
    "    print('Total number of handshakes: ', count)"
   ]
  },
  {
   "cell_type": "code",
   "execution_count": 2,
   "metadata": {},
   "outputs": [
    {
     "name": "stdout",
     "output_type": "stream",
     "text": [
      "Hand Shake of  1 and 2\n",
      "Hand Shake of  1 and 3\n",
      "Hand Shake of  1 and 4\n",
      "Hand Shake of  1 and 5\n",
      "Hand Shake of  2 and 3\n",
      "Hand Shake of  2 and 4\n",
      "Hand Shake of  2 and 5\n",
      "Hand Shake of  3 and 4\n",
      "Hand Shake of  3 and 5\n",
      "Hand Shake of  4 and 5\n",
      "Total number of handshakes:  10\n"
     ]
    }
   ],
   "source": [
    "count_hand_shakes_iterative(total_persons_in_room=5)"
   ]
  },
  {
   "cell_type": "markdown",
   "metadata": {},
   "source": [
    "#### `RECURSIVE APPROACH`\n",
    "\n",
    "---"
   ]
  },
  {
   "cell_type": "code",
   "execution_count": 3,
   "metadata": {},
   "outputs": [],
   "source": [
    "# define recursive function to count handshakes\n",
    "\n",
    "def count_hand_shakes(total_persons_in_room):\n",
    "    \n",
    "    # Base Condition: When number of persons is 2 (One Handshake)\n",
    "    if total_persons_in_room == 2:\n",
    "            return 1\n",
    "    \n",
    "    else:\n",
    "            # F(N) = F(N-1) + (N-1)\n",
    "            return count_hand_shakes(total_persons_in_room - 1) + (total_persons_in_room - 1)\n"
   ]
  },
  {
   "cell_type": "code",
   "execution_count": 4,
   "metadata": {},
   "outputs": [
    {
     "data": {
      "text/plain": [
       "10"
      ]
     },
     "execution_count": 4,
     "metadata": {},
     "output_type": "execute_result"
    }
   ],
   "source": [
    "count_hand_shakes(5)"
   ]
  },
  {
   "cell_type": "code",
   "execution_count": 5,
   "metadata": {},
   "outputs": [
    {
     "data": {
      "text/plain": [
       "6"
      ]
     },
     "execution_count": 5,
     "metadata": {},
     "output_type": "execute_result"
    }
   ],
   "source": [
    "count_hand_shakes(4)"
   ]
  },
  {
   "cell_type": "markdown",
   "metadata": {},
   "source": [
    "#### `How does it work under the hood?`\n",
    "\n",
    "---"
   ]
  },
  {
   "cell_type": "code",
   "execution_count": 6,
   "metadata": {},
   "outputs": [],
   "source": [
    "# define recursive function to count handshakes\n",
    "\n",
    "def count_hand_shakes(total_persons_in_room):\n",
    "    \n",
    "    # Base Condition: When number of persons is 2 (One Handshake)\n",
    "    print(\"The function is called with value: \", total_persons_in_room)\n",
    "    if total_persons_in_room == 2:\n",
    "            return 1\n",
    "    \n",
    "    else:\n",
    "            # F(N) = F(N-1) + (N-1)\n",
    "            return count_hand_shakes(total_persons_in_room - 1) + (total_persons_in_room - 1)"
   ]
  },
  {
   "cell_type": "code",
   "execution_count": 7,
   "metadata": {},
   "outputs": [
    {
     "name": "stdout",
     "output_type": "stream",
     "text": [
      "The function is called with value:  5\n",
      "The function is called with value:  4\n",
      "The function is called with value:  3\n",
      "The function is called with value:  2\n"
     ]
    },
    {
     "data": {
      "text/plain": [
       "10"
      ]
     },
     "execution_count": 7,
     "metadata": {},
     "output_type": "execute_result"
    }
   ],
   "source": [
    "count_hand_shakes(5)"
   ]
  },
  {
   "cell_type": "code",
   "execution_count": 8,
   "metadata": {},
   "outputs": [],
   "source": [
    "#f(5) = f(4) + 4"
   ]
  },
  {
   "cell_type": "code",
   "execution_count": 9,
   "metadata": {},
   "outputs": [
    {
     "name": "stdout",
     "output_type": "stream",
     "text": [
      "The function is called with value:  4\n",
      "The function is called with value:  3\n",
      "The function is called with value:  2\n"
     ]
    }
   ],
   "source": [
    "result = count_hand_shakes(4)"
   ]
  },
  {
   "cell_type": "code",
   "execution_count": 10,
   "metadata": {},
   "outputs": [
    {
     "data": {
      "text/plain": [
       "10"
      ]
     },
     "execution_count": 10,
     "metadata": {},
     "output_type": "execute_result"
    }
   ],
   "source": [
    "result+4"
   ]
  },
  {
   "cell_type": "markdown",
   "metadata": {},
   "source": [
    "---\n",
    "\n",
    "### `Advantages of Recursion`\n",
    "\n",
    "- Reduces length of code\n",
    "- Iteration can be complex sometimes, when we have several possible random cases.\n",
    "\n",
    "---"
   ]
  },
  {
   "cell_type": "markdown",
   "metadata": {},
   "source": [
    "### `Disadvantages of Recursion`\n",
    "\n",
    "- It uses more memory.\n",
    "- Time complexity is increases, can be slow if not implemented correctly. \n",
    "\n",
    "---"
   ]
  },
  {
   "cell_type": "markdown",
   "metadata": {},
   "source": [
    "### `Looping Constructs (Iterative Solution) vs Recursive Solution?`\n",
    "\n",
    "- It depends upon the task.\n",
    "- For most common programming tasks go for Iterative solution.\n",
    "- For particular tasks a recursive solution is both intuitive/simple to understand and also faster in terms of execution.\n",
    "\n",
    "\n",
    "---"
   ]
  },
  {
   "cell_type": "code",
   "execution_count": null,
   "metadata": {},
   "outputs": [],
   "source": []
  }
 ],
 "metadata": {
  "kernelspec": {
   "display_name": "Python 3",
   "language": "python",
   "name": "python3"
  },
  "language_info": {
   "codemirror_mode": {
    "name": "ipython",
    "version": 3
   },
   "file_extension": ".py",
   "mimetype": "text/x-python",
   "name": "python",
   "nbconvert_exporter": "python",
   "pygments_lexer": "ipython3",
   "version": "3.9.5"
  }
 },
 "nbformat": 4,
 "nbformat_minor": 4
}
