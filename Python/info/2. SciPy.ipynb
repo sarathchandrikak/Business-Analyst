{
 "cells": [
  {
   "cell_type": "markdown",
   "metadata": {
    "colab_type": "text",
    "id": "61BL8dcvicf_"
   },
   "source": [
    "---\n",
    "\n",
    "<center><h1>📍 📍 SciPy 📍 📍</h1></center>\n",
    "\n",
    "---\n",
    "\n",
    "***SciPy is a open source scientific library for python. The SciPy library depends on NumPy, which provides convenient and fast N-dimensional array manipulation.***\n",
    "\n",
    "---"
   ]
  },
  {
   "cell_type": "code",
   "execution_count": 4,
   "metadata": {
    "colab": {},
    "colab_type": "code",
    "id": "oNhLoX8vicgJ"
   },
   "outputs": [
    {
     "ename": "ModuleNotFoundError",
     "evalue": "No module named 'scipy'",
     "output_type": "error",
     "traceback": [
      "\u001b[0;31m---------------------------------------------------------------------------\u001b[0m",
      "\u001b[0;31mModuleNotFoundError\u001b[0m                       Traceback (most recent call last)",
      "\u001b[0;32m<ipython-input-4-60ec8f1c14bc>\u001b[0m in \u001b[0;36m<module>\u001b[0;34m\u001b[0m\n\u001b[1;32m      1\u001b[0m \u001b[0;31m# import the scipy library\u001b[0m\u001b[0;34m\u001b[0m\u001b[0;34m\u001b[0m\u001b[0;34m\u001b[0m\u001b[0m\n\u001b[0;32m----> 2\u001b[0;31m \u001b[0;32mimport\u001b[0m \u001b[0mscipy\u001b[0m\u001b[0;34m\u001b[0m\u001b[0;34m\u001b[0m\u001b[0m\n\u001b[0m",
      "\u001b[0;31mModuleNotFoundError\u001b[0m: No module named 'scipy'"
     ]
    }
   ],
   "source": [
    "# import the scipy library\n",
    "import scipy"
   ]
  },
  {
   "cell_type": "markdown",
   "metadata": {
    "colab_type": "text",
    "id": "ClP0paC0icgv"
   },
   "source": [
    "***If you got an error while running the above cell, import it by using the following command***\n",
    "\n",
    "***`!pip3 install numpy`***\n",
    "\n",
    "---"
   ]
  },
  {
   "cell_type": "code",
   "execution_count": null,
   "metadata": {},
   "outputs": [],
   "source": [
    "!pip3 install scipy --quiet"
   ]
  },
  {
   "cell_type": "code",
   "execution_count": null,
   "metadata": {
    "colab": {},
    "colab_type": "code",
    "id": "b2NS9J12icg0"
   },
   "outputs": [],
   "source": [
    "# check the version of scipy\n",
    "scipy.__version__"
   ]
  },
  {
   "cell_type": "markdown",
   "metadata": {
    "colab_type": "text",
    "id": "kmHln7RwichH"
   },
   "source": [
    "#### `COMPUTE THE Nth DERIVATE OF A FUNCTION`\n",
    "\n",
    "---"
   ]
  },
  {
   "cell_type": "code",
   "execution_count": null,
   "metadata": {
    "colab": {},
    "colab_type": "code",
    "id": "eAa-m1gCichM"
   },
   "outputs": [],
   "source": [
    "# import the derivative from scipy\n",
    "from scipy.misc import derivative"
   ]
  },
  {
   "cell_type": "code",
   "execution_count": null,
   "metadata": {
    "colab": {},
    "colab_type": "code",
    "id": "mfs776jQichb"
   },
   "outputs": [],
   "source": [
    "# define the function\n",
    "def my_function(x):\n",
    "    return x**2 + x + 1\n",
    "\n",
    "# calculate the first derivative of the function at x = 2\n",
    "\n",
    "derivative(func= my_function, x0=2)"
   ]
  },
  {
   "cell_type": "markdown",
   "metadata": {
    "colab_type": "text",
    "id": "RyvIZOGiichp"
   },
   "source": [
    "#### Function: `f(x) = x**2 + x + 1`\n",
    "#### Derivate:  `f'(x) = 2*x + 1`\n",
    "#### Solution:  `f'(2) = 2*2 + 1 = 5`\n",
    "\n",
    "---\n",
    "\n",
    "***Now, calculate the second derivative***\n",
    "\n",
    "---"
   ]
  },
  {
   "cell_type": "code",
   "execution_count": null,
   "metadata": {
    "colab": {},
    "colab_type": "code",
    "id": "_tvIPnd0icht"
   },
   "outputs": [],
   "source": [
    "derivative(func=my_function,x0=2,n=2)"
   ]
  },
  {
   "cell_type": "markdown",
   "metadata": {
    "colab_type": "text",
    "id": "Gy-Fxizfich4"
   },
   "source": [
    "---\n",
    "\n",
    "#### `PERMUTATION AND COMBINATIONS`\n",
    "\n",
    "---"
   ]
  },
  {
   "cell_type": "code",
   "execution_count": null,
   "metadata": {
    "colab": {},
    "colab_type": "code",
    "id": "M8zXWf9Vich8"
   },
   "outputs": [],
   "source": [
    "# COMBINATIONS\n",
    "from scipy.special import comb\n",
    "\n",
    "# total number of combinations from 4 different values taken 2 at a time\n",
    "# Value of 4C2\n",
    "com = comb(4, 2)\n",
    "\n",
    "print(com)"
   ]
  },
  {
   "cell_type": "code",
   "execution_count": null,
   "metadata": {
    "colab": {},
    "colab_type": "code",
    "id": "r6JsIZMqiciL"
   },
   "outputs": [],
   "source": [
    "# PERMUTATIONS: Value of 4P2\n",
    "from scipy.special import perm\n",
    "per = perm(4, 2)\n",
    "\n",
    "print(per)"
   ]
  },
  {
   "cell_type": "markdown",
   "metadata": {
    "colab_type": "text",
    "id": "B_W1pIsAiciY"
   },
   "source": [
    "---\n",
    "\n",
    "\n",
    "#### `LINEAR ALGEBRA`\n",
    "\n",
    "\n",
    "\n",
    "---"
   ]
  },
  {
   "cell_type": "code",
   "execution_count": null,
   "metadata": {
    "colab": {},
    "colab_type": "code",
    "id": "0VpDvrcdicib"
   },
   "outputs": [],
   "source": [
    "# import linear algebra module and numpy\n",
    "from scipy import linalg\n",
    "import numpy as np"
   ]
  },
  {
   "cell_type": "code",
   "execution_count": null,
   "metadata": {
    "colab": {},
    "colab_type": "code",
    "id": "LNYJZAaTicim"
   },
   "outputs": [],
   "source": [
    "# square matrix\n",
    "matrix = np.array([[1, 5, 2],\n",
    "                   [3, 2, 1],\n",
    "                   [1, 2, 1]])"
   ]
  },
  {
   "cell_type": "code",
   "execution_count": null,
   "metadata": {
    "colab": {},
    "colab_type": "code",
    "id": "kSOBJvEIiciy"
   },
   "outputs": [],
   "source": [
    "matrix"
   ]
  },
  {
   "cell_type": "code",
   "execution_count": null,
   "metadata": {
    "colab": {},
    "colab_type": "code",
    "id": "art0Ir25ici-"
   },
   "outputs": [],
   "source": [
    "# pass values to det() function\n",
    "linalg.det(matrix)"
   ]
  },
  {
   "cell_type": "code",
   "execution_count": null,
   "metadata": {
    "colab": {},
    "colab_type": "code",
    "id": "HFXKWxjPicjK"
   },
   "outputs": [],
   "source": [
    "# inverse of a matrix\n",
    "linalg.inv(matrix)"
   ]
  },
  {
   "cell_type": "markdown",
   "metadata": {
    "colab_type": "text",
    "id": "hXohnFWticjT"
   },
   "source": [
    "***Learn more about SciPy here: https://docs.scipy.org/doc/***\n",
    "\n",
    "---"
   ]
  }
 ],
 "metadata": {
  "colab": {
   "name": "2. SciPy.ipynb",
   "provenance": []
  },
  "kernelspec": {
   "display_name": "Python 3",
   "language": "python",
   "name": "python3"
  },
  "language_info": {
   "codemirror_mode": {
    "name": "ipython",
    "version": 3
   },
   "file_extension": ".py",
   "mimetype": "text/x-python",
   "name": "python",
   "nbconvert_exporter": "python",
   "pygments_lexer": "ipython3",
   "version": "3.9.5"
  }
 },
 "nbformat": 4,
 "nbformat_minor": 4
}
