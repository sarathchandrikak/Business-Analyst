{
 "cells": [
  {
   "cell_type": "code",
   "execution_count": 1,
   "id": "12521bfd-bc5a-4aad-92ab-74224a1e8e06",
   "metadata": {},
   "outputs": [],
   "source": [
    "  student_marks = [['Name',  ['A','B','C','D','E']],\n",
    "                 ['Ankit',  [41, 34, 45, 55, 63]],\n",
    "                 ['Aravind',[42, 23, 34, 44, 53]],\n",
    "                 ['Lakshay',[32, 23, 13, 54, 67]],\n",
    "                 ['Gyan',   [23, 82, 23, 63, 34]],\n",
    "                 ['Pranav', [21, 23, 25, 56, 56]]\n",
    "                ]"
   ]
  },
  {
   "cell_type": "markdown",
   "id": "0e8d23ca-790c-4d99-b206-52a9d8564fc4",
   "metadata": {},
   "source": [
    "🙇 Who scored the highest marks in the subject B?"
   ]
  },
  {
   "cell_type": "code",
   "execution_count": 4,
   "id": "5e479f0e-e431-4afe-b2d6-23ff3aeec417",
   "metadata": {},
   "outputs": [
    {
     "data": {
      "text/plain": [
       "34"
      ]
     },
     "execution_count": 4,
     "metadata": {},
     "output_type": "execute_result"
    }
   ],
   "source": [
    "student_marks[1][1][1]"
   ]
  },
  {
   "cell_type": "code",
   "execution_count": 7,
   "id": "c6768c26-72dd-4749-b976-496135a6e684",
   "metadata": {},
   "outputs": [
    {
     "name": "stdout",
     "output_type": "stream",
     "text": [
      "82\n"
     ]
    }
   ],
   "source": [
    "b_list = []\n",
    "for i in range(1, len(student_marks)):  \n",
    "    b_list.append(student_marks[i][1][1])\n",
    "print(max(b_list))"
   ]
  },
  {
   "cell_type": "markdown",
   "id": "595a0db1-527f-4851-ad1c-b08b9326e20c",
   "metadata": {},
   "source": [
    "🙇 What is the average marks scored in the subject C?"
   ]
  },
  {
   "cell_type": "code",
   "execution_count": 11,
   "id": "82609b06-5c19-4b08-8d95-6eff68e38131",
   "metadata": {},
   "outputs": [
    {
     "name": "stdout",
     "output_type": "stream",
     "text": [
      "28.0\n"
     ]
    }
   ],
   "source": [
    "total = 0\n",
    "for i in range(1, len(student_marks)):  \n",
    "    total = total + student_marks[i][1][2]\n",
    "print(total/(len(student_marks)-1))"
   ]
  },
  {
   "cell_type": "markdown",
   "id": "92ad11b5-99f2-429a-8dab-d110a114b6b6",
   "metadata": {},
   "source": [
    "🙇 Who scored the highest percentage of marks?"
   ]
  },
  {
   "cell_type": "code",
   "execution_count": 21,
   "id": "c0e192f7-8842-469f-9bf1-2dd63a6937b7",
   "metadata": {},
   "outputs": [
    {
     "name": "stdout",
     "output_type": "stream",
     "text": [
      "Ankit\n"
     ]
    }
   ],
   "source": [
    "max_percentage = 0\n",
    "value = 0\n",
    "for i in range(1,len(student_marks)):\n",
    "    if (((sum(student_marks[i][1])) / 500) * 100) > max_percentage:\n",
    "        value = i\n",
    "        max_percentage = ((sum(student_marks[i][1])) / 500) * 100\n",
    "print(student_marks[value][0])"
   ]
  },
  {
   "cell_type": "markdown",
   "id": "aebf62e0-59cc-4035-9350-4279c36c39c3",
   "metadata": {},
   "source": [
    "🙇If considered only top-4 subjects of a candidate, then who scored the highest percentage of marks?"
   ]
  },
  {
   "cell_type": "code",
   "execution_count": 36,
   "id": "969b5ecd-749f-4a05-a00a-8049fec5bf1f",
   "metadata": {},
   "outputs": [
    {
     "name": "stdout",
     "output_type": "stream",
     "text": [
      "Ankit\n"
     ]
    }
   ],
   "source": [
    "max_percentage = 0\n",
    "value = 0\n",
    "for i in range(1, len(student_marks)):\n",
    "    x = sorted(student_marks[i][1], reverse=True)\n",
    "    x.pop()\n",
    "    if ((sum(x) / 500) * 100) > max_percentage:\n",
    "        value = i\n",
    "        max_percentage = ((sum(x) / 500) * 100)\n",
    "print(student_marks[value][0])"
   ]
  }
 ],
 "metadata": {
  "kernelspec": {
   "display_name": "Python 3",
   "language": "python",
   "name": "python3"
  },
  "language_info": {
   "codemirror_mode": {
    "name": "ipython",
    "version": 3
   },
   "file_extension": ".py",
   "mimetype": "text/x-python",
   "name": "python",
   "nbconvert_exporter": "python",
   "pygments_lexer": "ipython3",
   "version": "3.9.5"
  }
 },
 "nbformat": 4,
 "nbformat_minor": 5
}
