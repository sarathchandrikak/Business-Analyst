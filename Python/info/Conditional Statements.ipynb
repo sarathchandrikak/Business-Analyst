{
 "cells": [
  {
   "cell_type": "markdown",
   "metadata": {
    "colab_type": "text",
    "id": "y0SA9Evx0A7m"
   },
   "source": [
    "---\n",
    "\n",
    "## 📌📌 Indentation and Comments in Python\n",
    "\n",
    "***Before we start Conditional Statements, let's have a look at `indentation` and `comments` in Python.***\n",
    "\n",
    "#### `INDENTATION`\n",
    "\n",
    "\n",
    " - Indentation means `(spaces and tabs)` that are used at the beginning of any statement. The statements with the same indentation belong to the same group also called as `suite`. \n",
    "\n",
    "---"
   ]
  },
  {
   "cell_type": "code",
   "execution_count": 1,
   "metadata": {
    "colab": {},
    "colab_type": "code",
    "id": "XNZdtCFi0A7v",
    "outputId": "a9547e32-cdb1-49e4-c680-3d1170a23e83"
   },
   "outputs": [
    {
     "ename": "IndentationError",
     "evalue": "unexpected indent (<ipython-input-1-9ebc36d86f03>, line 2)",
     "output_type": "error",
     "traceback": [
      "\u001b[0;36m  File \u001b[0;32m\"<ipython-input-1-9ebc36d86f03>\"\u001b[0;36m, line \u001b[0;32m2\u001b[0m\n\u001b[0;31m    b = 6 # unexpected extra space will give us an error\u001b[0m\n\u001b[0m    ^\u001b[0m\n\u001b[0;31mIndentationError\u001b[0m\u001b[0;31m:\u001b[0m unexpected indent\n"
     ]
    }
   ],
   "source": [
    "a = 5\n",
    "    b = 6 # unexpected extra space will give us an error"
   ]
  },
  {
   "cell_type": "code",
   "execution_count": null,
   "metadata": {
    "colab": {},
    "colab_type": "code",
    "id": "LlBHrpqe0A8K",
    "outputId": "75575af8-9e94-4e04-c7bf-89d3161f1292"
   },
   "outputs": [],
   "source": [
    "if (2 == 2):\n",
    "print('True Statement')"
   ]
  },
  {
   "cell_type": "markdown",
   "metadata": {
    "colab_type": "text",
    "id": "Z1MpYst20A8c"
   },
   "source": [
    "***The above code snippet contains the `if` statement which expects to perform some lines of code if the condition is true. So, all of that code should belong to a group which python finds out by `indented` block of code.***\n",
    "\n",
    "---"
   ]
  },
  {
   "cell_type": "code",
   "execution_count": 2,
   "metadata": {
    "colab": {},
    "colab_type": "code",
    "id": "dm2r9ozf0A8h",
    "outputId": "4d1ab61f-eade-4c3b-e698-51426b508ae5"
   },
   "outputs": [
    {
     "name": "stdout",
     "output_type": "stream",
     "text": [
      "True Statement\n"
     ]
    }
   ],
   "source": [
    "if (2 == 2):\n",
    "    print('True Statement')"
   ]
  },
  {
   "cell_type": "markdown",
   "metadata": {
    "colab_type": "text",
    "id": "nkDiSUxF0A8x"
   },
   "source": [
    "---\n",
    "\n",
    "#### `COMMENTS`\n",
    "\n",
    "To write a comment in Python, simply put the hash mark # before your desired comment:\n",
    "\n",
    "---"
   ]
  },
  {
   "cell_type": "code",
   "execution_count": 3,
   "metadata": {
    "colab": {},
    "colab_type": "code",
    "id": "Gr0loO_h0A82",
    "outputId": "9a1c0769-eb04-4171-91ae-38455b6c909c"
   },
   "outputs": [
    {
     "name": "stdout",
     "output_type": "stream",
     "text": [
      "This line will be executed\n"
     ]
    }
   ],
   "source": [
    "print('This line will be executed')\n",
    "# print('This is a comment')\n",
    "# This line does nothing !!!"
   ]
  },
  {
   "cell_type": "markdown",
   "metadata": {
    "colab_type": "text",
    "id": "lL6Wgn9C0A9F"
   },
   "source": [
    "---\n",
    "\n",
    "<center><h1> 📍 📍 Conditional Statements 📍 📍 </h1></center>\n",
    "\n",
    "\n",
    "---\n",
    "***CONDITIONAL OPERATORS***\n",
    "\n",
    "* ***Double Equals:*** a == b\n",
    "* ***Not Equals:*** a != b\n",
    "* ***Less than:*** a < b\n",
    "* ***Less than or equal to:*** a <= b\n",
    "* ***Greater than:*** a > b\n",
    "* ***Greater than or equal to:*** a >= b\n",
    "\n",
    "\n",
    "---"
   ]
  },
  {
   "cell_type": "code",
   "execution_count": 4,
   "metadata": {
    "colab": {},
    "colab_type": "code",
    "id": "0Zbslyf20A9K",
    "outputId": "226d99f2-c51c-4bdd-cd36-71a5b17a3272"
   },
   "outputs": [
    {
     "name": "stdout",
     "output_type": "stream",
     "text": [
      "The condition in the if statement is True.\n"
     ]
    }
   ],
   "source": [
    "# if statement\n",
    "\n",
    "x = 1\n",
    "\n",
    "if (x == 1):\n",
    "    print('The condition in the if statement is True.')"
   ]
  },
  {
   "cell_type": "code",
   "execution_count": 5,
   "metadata": {
    "colab": {},
    "colab_type": "code",
    "id": "ZjzLtBYQ0A9W"
   },
   "outputs": [],
   "source": [
    "# if \"The condition in the if statement is False\"\n",
    "\n",
    "if (x == 3):\n",
    "    print('The condition in the if statement is True')\n",
    "    \n",
    "# Here we will not get any output."
   ]
  },
  {
   "cell_type": "code",
   "execution_count": 6,
   "metadata": {
    "colab": {},
    "colab_type": "code",
    "id": "1dP6DdZW0A9i",
    "outputId": "9d6f00b3-360e-42d0-9e8f-61d65cb2bdb4"
   },
   "outputs": [
    {
     "name": "stdout",
     "output_type": "stream",
     "text": [
      "a is smaller than b.\n"
     ]
    }
   ],
   "source": [
    "# with one condition\n",
    "a = 5\n",
    "b = 10\n",
    "\n",
    "if (a > b):\n",
    "    print('a is greater than b.')\n",
    "else :\n",
    "    print('a is smaller than b.')"
   ]
  },
  {
   "cell_type": "code",
   "execution_count": 7,
   "metadata": {
    "colab": {},
    "colab_type": "code",
    "id": "po4ObPfb0A9y",
    "outputId": "13725a01-6ba8-4c08-c5bb-ede2c25af486"
   },
   "outputs": [
    {
     "name": "stdout",
     "output_type": "stream",
     "text": [
      "Both the numbers are greater than 5\n"
     ]
    }
   ],
   "source": [
    "# multiple conditions\n",
    "a = 8\n",
    "b = 10\n",
    "\n",
    "if ( (a > 10) and (b > 10) ):\n",
    "    print('Both the numbers are greater than 10.')\n",
    "    \n",
    "elif ( (a > 5) and (b > 5) ):\n",
    "    print('Both the numbers are greater than 5')\n",
    "    \n",
    "else:\n",
    "    print('Conditions are not Satisfied.')"
   ]
  },
  {
   "cell_type": "markdown",
   "metadata": {
    "colab_type": "text",
    "id": "5MKz8yyX0A98"
   },
   "source": [
    "#### 📍 📍 Problem 1 : Take an input from a user in variable x and print \"Even\" if the number is divisible by 2, otherwise print \"Odd\".\n",
    "\n",
    "---"
   ]
  },
  {
   "cell_type": "code",
   "execution_count": 11,
   "metadata": {
    "colab": {},
    "colab_type": "code",
    "id": "3NrAps7b0A-C",
    "outputId": "851a8a5e-78e2-437a-de95-b3440674fa94"
   },
   "outputs": [
    {
     "name": "stdin",
     "output_type": "stream",
     "text": [
      " 2\n"
     ]
    },
    {
     "name": "stdout",
     "output_type": "stream",
     "text": [
      "Even\n"
     ]
    }
   ],
   "source": [
    "# take the input from the user by using the input function\n",
    "x = input()\n",
    "\n",
    "# by default the type is string, so we need to convert the type first\n",
    "x = int(x)\n",
    "\n",
    "if(x%2 == 0):\n",
    "    print(\"Even\")\n",
    "else:\n",
    "    print(\"Odd\")"
   ]
  },
  {
   "cell_type": "markdown",
   "metadata": {
    "colab_type": "text",
    "id": "bh6THx4G0A-P"
   },
   "source": [
    "#### 📍 📍Problem 2 : Take input from the user in variable y and print \"`Grade A`\" if y is greater than 90, \"`Grade B`\" if y is greater than 60 but less than or equal to 90 and \"`Grade F`\" Otherwise.\n",
    "\n",
    "---"
   ]
  },
  {
   "cell_type": "code",
   "execution_count": 12,
   "metadata": {
    "colab": {
     "base_uri": "https://localhost:8080/",
     "height": 52
    },
    "colab_type": "code",
    "executionInfo": {
     "elapsed": 18769,
     "status": "ok",
     "timestamp": 1584361278610,
     "user": {
      "displayName": "Abhiraj Suresh",
      "photoUrl": "",
      "userId": "02561716271917562052"
     },
     "user_tz": -330
    },
    "id": "_5NJRM1Q0A-S",
    "outputId": "b12424d7-69b5-4d57-89e9-8c8cd8bc561a"
   },
   "outputs": [
    {
     "name": "stdin",
     "output_type": "stream",
     "text": [
      " 78\n"
     ]
    },
    {
     "name": "stdout",
     "output_type": "stream",
     "text": [
      "Grade B\n"
     ]
    }
   ],
   "source": [
    "# take the input from the user by using the input function\n",
    "y = input()\n",
    "\n",
    "# by default the type is string, so we need to convert the type first\n",
    "y = int(y)\n",
    "\n",
    "if  (y > 90):\n",
    "    print(\"Grade A\")\n",
    "\n",
    "elif(y > 60):\n",
    "    print(\"Grade B\")\n",
    "\n",
    "else:\n",
    "    print(\"Grade F\")"
   ]
  },
  {
   "cell_type": "code",
   "execution_count": null,
   "metadata": {
    "colab": {},
    "colab_type": "code",
    "id": "lIPUVB_T0A-d"
   },
   "outputs": [],
   "source": []
  }
 ],
 "metadata": {
  "colab": {
   "name": "2. Conditional Statements.ipynb",
   "provenance": []
  },
  "kernelspec": {
   "display_name": "Python 3",
   "language": "python",
   "name": "python3"
  },
  "language_info": {
   "codemirror_mode": {
    "name": "ipython",
    "version": 3
   },
   "file_extension": ".py",
   "mimetype": "text/x-python",
   "name": "python",
   "nbconvert_exporter": "python",
   "pygments_lexer": "ipython3",
   "version": "3.9.5"
  }
 },
 "nbformat": 4,
 "nbformat_minor": 4
}
